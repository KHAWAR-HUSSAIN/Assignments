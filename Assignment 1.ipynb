{
 "cells": [
  {
   "cell_type": "code",
   "execution_count": 1,
   "metadata": {},
   "outputs": [
    {
     "name": "stdout",
     "output_type": "stream",
     "text": [
      "Twinkle, twinkle, little star,\n",
      "\n",
      "\tHow I wonder what you are!\n",
      "\n",
      "\t\tUp above the world so high,\n",
      "\n",
      "\t\tLike a diamond in the sky.\n",
      "\n",
      "Twinkle, twinkle, little star,\n",
      "\n",
      "\tHow I wonder what you are\n",
      "\n"
     ]
    }
   ],
   "source": [
    "print(\"Twinkle, twinkle, little star,\\n\")\n",
    "print(\"\\tHow I wonder what you are!\\n\")\n",
    "print(\"\\t\\tUp above the world so high,\\n\")\n",
    "print(\"\\t\\tLike a diamond in the sky.\\n\")\n",
    "print(\"Twinkle, twinkle, little star,\\n\")\n",
    "print(\"\\tHow I wonder what you are\\n\")"
   ]
  },
  {
   "cell_type": "code",
   "execution_count": 2,
   "metadata": {},
   "outputs": [
    {
     "name": "stdout",
     "output_type": "stream",
     "text": [
      "Your Python version is = 3.7\n"
     ]
    }
   ],
   "source": [
    "print(\"Your Python version is = 3.7\")"
   ]
  },
  {
   "cell_type": "code",
   "execution_count": 3,
   "metadata": {},
   "outputs": [
    {
     "name": "stdout",
     "output_type": "stream",
     "text": [
      "2019-11-28 21:34:29.038357\n"
     ]
    }
   ],
   "source": [
    "import datetime\n",
    "print(datetime.datetime.now())"
   ]
  },
  {
   "cell_type": "code",
   "execution_count": 4,
   "metadata": {},
   "outputs": [
    {
     "name": "stdout",
     "output_type": "stream",
     "text": [
      "Enter Radius: 2\n",
      " Area Of a Circle =\n",
      "12.56\n"
     ]
    }
   ],
   "source": [
    "pi = 3.14\n",
    "r = float(input('Enter Radius: '))\n",
    "a = pi * r * r\n",
    "print(\" Area Of a Circle =\")\n",
    "print(a);"
   ]
  },
  {
   "cell_type": "code",
   "execution_count": 5,
   "metadata": {},
   "outputs": [
    {
     "name": "stdout",
     "output_type": "stream",
     "text": [
      "Please Enter Your First Name : Khawar\n",
      "Please Enter Your Last Name : Hussain\n",
      "Hussain Khawar\n"
     ]
    }
   ],
   "source": [
    "fName = input('Please Enter Your First Name : ')\n",
    "lName = input('Please Enter Your Last Name : ')\n",
    "print( lName + \" \" + fName);"
   ]
  },
  {
   "cell_type": "code",
   "execution_count": 7,
   "metadata": {},
   "outputs": [
    {
     "ename": "SyntaxError",
     "evalue": "can't assign to operator (<ipython-input-7-86c5559f6c53>, line 3)",
     "output_type": "error",
     "traceback": [
      "\u001b[1;36m  File \u001b[1;32m\"<ipython-input-7-86c5559f6c53>\"\u001b[1;36m, line \u001b[1;32m3\u001b[0m\n\u001b[1;33m    total = input1 + input2input1 = int(input('Please First Number : '))\u001b[0m\n\u001b[1;37m           ^\u001b[0m\n\u001b[1;31mSyntaxError\u001b[0m\u001b[1;31m:\u001b[0m can't assign to operator\n"
     ]
    }
   ],
   "source": [
    "input1 = int(input('Please First Number : '))\n",
    "input2 = int(input('Please Second Number : '))\n",
    "total = input1 + input2input1 = int(input('Please First Number : '))\n",
    "input2 = int(input('Please Second Number : '))\n",
    "total = input1 + input2\n",
    "print(total)"
   ]
  },
  {
   "cell_type": "code",
   "execution_count": 8,
   "metadata": {},
   "outputs": [
    {
     "name": "stdout",
     "output_type": "stream",
     "text": [
      "Please First Number : 2\n",
      "Please Second Number : 3\n",
      "5\n"
     ]
    }
   ],
   "source": [
    "input1 = int(input('Please First Number : '))\n",
    "input2 = int(input('Please Second Number : '))\n",
    "total = input1 + input2\n",
    "print(total);"
   ]
  },
  {
   "cell_type": "code",
   "execution_count": 9,
   "metadata": {},
   "outputs": [
    {
     "name": "stdout",
     "output_type": "stream",
     "text": [
      "Please First Number : 3\n",
      "Please Second Number : 2\n",
      "Your Total is\n",
      "5\n"
     ]
    }
   ],
   "source": [
    "input1 = int(input('Please First Number : '))\n",
    "input2 = int(input('Please Second Number : '))\n",
    "total = input1 + input2\n",
    "print(\"Your Total is\")\n",
    "print(total)"
   ]
  },
  {
   "cell_type": "code",
   "execution_count": null,
   "metadata": {},
   "outputs": [],
   "source": []
  }
 ],
 "metadata": {
  "kernelspec": {
   "display_name": "Python 3",
   "language": "python",
   "name": "python3"
  },
  "language_info": {
   "codemirror_mode": {
    "name": "ipython",
    "version": 3
   },
   "file_extension": ".py",
   "mimetype": "text/x-python",
   "name": "python",
   "nbconvert_exporter": "python",
   "pygments_lexer": "ipython3",
   "version": "3.7.4"
  }
 },
 "nbformat": 4,
 "nbformat_minor": 2
}
