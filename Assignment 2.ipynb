{
 "cells": [
  {
   "cell_type": "code",
   "execution_count": 1,
   "metadata": {},
   "outputs": [
    {
     "name": "stdout",
     "output_type": "stream",
     "text": [
      "Enter marks obtained in 5 subjects\n",
      "Subject 1 :60\n",
      "Subject 2 :70\n",
      "Subject 3 :65\n",
      "Subject 4 :79\n",
      "Subject 5 :89\n"
     ]
    },
    {
     "ename": "NameError",
     "evalue": "name 't' is not defined",
     "output_type": "error",
     "traceback": [
      "\u001b[1;31m---------------------------------------------------------------------------\u001b[0m",
      "\u001b[1;31mNameError\u001b[0m                                 Traceback (most recent call last)",
      "\u001b[1;32m<ipython-input-1-430d1482c712>\u001b[0m in \u001b[0;36m<module>\u001b[1;34m\u001b[0m\n\u001b[0;32m      8\u001b[0m \u001b[1;33m\u001b[0m\u001b[0m\n\u001b[0;32m      9\u001b[0m \u001b[0mttl\u001b[0m \u001b[1;33m=\u001b[0m \u001b[0msub5\u001b[0m \u001b[1;33m+\u001b[0m \u001b[0msub4\u001b[0m \u001b[1;33m+\u001b[0m \u001b[0msub3\u001b[0m \u001b[1;33m+\u001b[0m \u001b[0msub2\u001b[0m \u001b[1;33m+\u001b[0m \u001b[0msub1\u001b[0m\u001b[1;33m\u001b[0m\u001b[1;33m\u001b[0m\u001b[0m\n\u001b[1;32m---> 10\u001b[1;33m \u001b[0mavr\u001b[0m \u001b[1;33m=\u001b[0m \u001b[0mt\u001b[0m\u001b[1;33m/\u001b[0m\u001b[1;36m5\u001b[0m\u001b[1;33m\u001b[0m\u001b[1;33m\u001b[0m\u001b[0m\n\u001b[0m\u001b[0;32m     11\u001b[0m \u001b[1;33m\u001b[0m\u001b[0m\n\u001b[0;32m     12\u001b[0m \u001b[1;32mif\u001b[0m\u001b[1;33m(\u001b[0m\u001b[0mavr\u001b[0m\u001b[1;33m>=\u001b[0m\u001b[1;36m91\u001b[0m \u001b[1;32mand\u001b[0m \u001b[0maverage\u001b[0m\u001b[1;33m<=\u001b[0m\u001b[1;36m100\u001b[0m\u001b[1;33m)\u001b[0m\u001b[1;33m:\u001b[0m\u001b[1;33m\u001b[0m\u001b[1;33m\u001b[0m\u001b[0m\n",
      "\u001b[1;31mNameError\u001b[0m: name 't' is not defined"
     ]
    }
   ],
   "source": [
    "print(\"Enter marks obtained in 5 subjects\")\n",
    "\n",
    "sub1 = int(input(\"Subject 1 :\"))\n",
    "sub2 = int(input(\"Subject 2 :\"))\n",
    "sub3 = int(input(\"Subject 3 :\"))\n",
    "sub4 = int(input(\"Subject 4 :\"))\n",
    "sub5 = int(input(\"Subject 5 :\"))\n",
    "    \n",
    "ttl = sub5 + sub4 + sub3 + sub2 + sub1\n",
    "avr = t/5\n",
    "\n",
    "if(avr>=91 and average<=100):\n",
    "    print(\"A+\");\n",
    "elif(avr>=81 and average<=90):\n",
    "    print(\"A\");\n",
    "elif(avr>=71 and average<=80):\n",
    "    print(\"B+\");\n",
    "elif(avr>=61 and average<=70):\n",
    "    print(\"B\");\n",
    "elif(avr>=51 and average<=60):\n",
    "    print(\"C+\");\n",
    "elif(avr>=41 and average<=50):\n",
    "    print(\"C\");\n",
    "elif(average>=0 and average<=40):\n",
    "    print(\"F\")\n",
    "else:\n",
    "    print(\"!\")"
   ]
  },
  {
   "cell_type": "code",
   "execution_count": 2,
   "metadata": {},
   "outputs": [
    {
     "name": "stdout",
     "output_type": "stream",
     "text": [
      "Enter marks obtained in 5 subjects\n",
      "Subject 1 :99\n",
      "Subject 2 :88\n",
      "Subject 3 :97\n",
      "Subject 4 :93\n",
      "Subject 5 :92\n",
      "A+\n"
     ]
    }
   ],
   "source": [
    "print(\"Enter marks obtained in 5 subjects\")\n",
    "\n",
    "sub1 = int(input(\"Subject 1 :\"))\n",
    "sub2 = int(input(\"Subject 2 :\"))\n",
    "sub3 = int(input(\"Subject 3 :\"))\n",
    "sub4 = int(input(\"Subject 4 :\"))\n",
    "sub5 = int(input(\"Subject 5 :\"))\n",
    "    \n",
    "total = sub5 + sub4 + sub3 + sub2 + sub1\n",
    "average = total/5\n",
    "\n",
    "if(average>=91 and average<=100):\n",
    "    print(\"A+\");\n",
    "elif(average>=81 and average<=90):\n",
    "    print(\"A\");\n",
    "elif(average>=71 and average<=80):\n",
    "    print(\"B+\");\n",
    "elif(average>=61 and average<=70):\n",
    "    print(\"B\");\n",
    "elif(average>=51 and average<=60):\n",
    "    print(\"C+\");\n",
    "elif(average>=41 and average<=50):\n",
    "    print(\"C\");\n",
    "elif(average>=0 and average<=40):\n",
    "    print(\"Fail\")\n",
    "else:\n",
    "    print(\"Invalid\")"
   ]
  },
  {
   "cell_type": "code",
   "execution_count": 3,
   "metadata": {},
   "outputs": [
    {
     "ename": "SyntaxError",
     "evalue": "invalid syntax (<ipython-input-3-83ba90a5883a>, line 4)",
     "output_type": "error",
     "traceback": [
      "\u001b[1;36m  File \u001b[1;32m\"<ipython-input-3-83ba90a5883a>\"\u001b[1;36m, line \u001b[1;32m4\u001b[0m\n\u001b[1;33m    print(\"Your \" + .format(number) + \" is Even\")\u001b[0m\n\u001b[1;37m                    ^\u001b[0m\n\u001b[1;31mSyntaxError\u001b[0m\u001b[1;31m:\u001b[0m invalid syntax\n"
     ]
    }
   ],
   "source": [
    "number = int(input())\n",
    "\n",
    "if (number % 2) == 0:\n",
    "   print(\"Your \" + .format(number) + \" is Even\")\n",
    "else:\n",
    "   print(\"Your \" + .format(number) + \" is ODD\")"
   ]
  },
  {
   "cell_type": "code",
   "execution_count": 4,
   "metadata": {},
   "outputs": [
    {
     "ename": "SyntaxError",
     "evalue": "invalid syntax (<ipython-input-4-9f6c63e7aad6>, line 4)",
     "output_type": "error",
     "traceback": [
      "\u001b[1;36m  File \u001b[1;32m\"<ipython-input-4-9f6c63e7aad6>\"\u001b[1;36m, line \u001b[1;32m4\u001b[0m\n\u001b[1;33m    print(\"Your \" + .format(number) + \" is Even\");\u001b[0m\n\u001b[1;37m                    ^\u001b[0m\n\u001b[1;31mSyntaxError\u001b[0m\u001b[1;31m:\u001b[0m invalid syntax\n"
     ]
    }
   ],
   "source": []
  },
  {
   "cell_type": "code",
   "execution_count": null,
   "metadata": {},
   "outputs": [],
   "source": []
  },
  {
   "cell_type": "code",
   "execution_count": 5,
   "metadata": {},
   "outputs": [
    {
     "name": "stdout",
     "output_type": "stream",
     "text": [
      "Enter any number2\n"
     ]
    }
   ],
   "source": [
    "number = int(input(\"Enter any number\"))"
   ]
  },
  {
   "cell_type": "code",
   "execution_count": 6,
   "metadata": {},
   "outputs": [
    {
     "ename": "SyntaxError",
     "evalue": "invalid syntax (<ipython-input-6-9a5f55bc8827>, line 3)",
     "output_type": "error",
     "traceback": [
      "\u001b[1;36m  File \u001b[1;32m\"<ipython-input-6-9a5f55bc8827>\"\u001b[1;36m, line \u001b[1;32m3\u001b[0m\n\u001b[1;33m    print(\"Your \" + .format(number) + \" is Even\")\u001b[0m\n\u001b[1;37m                    ^\u001b[0m\n\u001b[1;31mSyntaxError\u001b[0m\u001b[1;31m:\u001b[0m invalid syntax\n"
     ]
    }
   ],
   "source": [
    "number = int(input(\"Enter any Number\"))\n",
    "if (number % 2) == 0:\n",
    "   print(\"Your \" + .format(number) + \" is Even\")"
   ]
  },
  {
   "cell_type": "code",
   "execution_count": 7,
   "metadata": {},
   "outputs": [
    {
     "ename": "SyntaxError",
     "evalue": "invalid syntax (<ipython-input-7-b1f71530df56>, line 3)",
     "output_type": "error",
     "traceback": [
      "\u001b[1;36m  File \u001b[1;32m\"<ipython-input-7-b1f71530df56>\"\u001b[1;36m, line \u001b[1;32m3\u001b[0m\n\u001b[1;33m    print(\"Your \" + .format(number) + \" is Even\")\u001b[0m\n\u001b[1;37m                    ^\u001b[0m\n\u001b[1;31mSyntaxError\u001b[0m\u001b[1;31m:\u001b[0m invalid syntax\n"
     ]
    }
   ],
   "source": [
    "number = int(input(\"Enter any number\"))\n",
    "if (number % 2 == 0):\n",
    "   print(\"Your \" + .format(number) + \" is Even\")\n",
    "else:\n",
    "   print(\"Your \" + .format(number) + \" is ODD\") "
   ]
  },
  {
   "cell_type": "code",
   "execution_count": 8,
   "metadata": {},
   "outputs": [
    {
     "name": "stdout",
     "output_type": "stream",
     "text": [
      "Enter any number2\n",
      "Your is Even\n"
     ]
    }
   ],
   "source": [
    "number = int(input(\"Enter any number\"))\n",
    "if (number % 2 == 0):\n",
    "   print(\"Your is Even\")\n",
    "else:\n",
    "   print(\"Your is ODD\")"
   ]
  },
  {
   "cell_type": "code",
   "execution_count": 9,
   "metadata": {},
   "outputs": [
    {
     "ename": "SyntaxError",
     "evalue": "invalid syntax (<ipython-input-9-f6bdf5b94493>, line 3)",
     "output_type": "error",
     "traceback": [
      "\u001b[1;36m  File \u001b[1;32m\"<ipython-input-9-f6bdf5b94493>\"\u001b[1;36m, line \u001b[1;32m3\u001b[0m\n\u001b[1;33m    print(\"Your \" + .format(number) + \" is Even\")\u001b[0m\n\u001b[1;37m                    ^\u001b[0m\n\u001b[1;31mSyntaxError\u001b[0m\u001b[1;31m:\u001b[0m invalid syntax\n"
     ]
    }
   ],
   "source": [
    "number = int(input(\"Enter any number\"))\n",
    "if (number % 2 == 0):\n",
    "   print(\"Your \" + .format(number) + \" is Even\")\n",
    "else:\n",
    "   print(\"Your \" + .format(number) + \" is ODD\")"
   ]
  },
  {
   "cell_type": "code",
   "execution_count": 10,
   "metadata": {},
   "outputs": [
    {
     "name": "stdout",
     "output_type": "stream",
     "text": [
      "Enter any number3\n",
      "Your is ODD\n"
     ]
    }
   ],
   "source": [
    "number = int(input(\"Enter any number\"))\n",
    "if (number % 2 == 0):\n",
    "   print(\"Your is Even\")\n",
    "else:\n",
    "   print(\"Your is ODD\")"
   ]
  },
  {
   "cell_type": "code",
   "execution_count": 11,
   "metadata": {},
   "outputs": [
    {
     "name": "stdout",
     "output_type": "stream",
     "text": [
      "5\n",
      "Your Enter Number is ODD\n"
     ]
    }
   ],
   "source": [
    "number = int(input())\n",
    "if (number % 2 == 0):\n",
    "   print(\"Your Enter Number is Even\")\n",
    "else:\n",
    "   print(\"Your Enter Number is ODD\")"
   ]
  },
  {
   "cell_type": "code",
   "execution_count": 12,
   "metadata": {},
   "outputs": [
    {
     "name": "stdout",
     "output_type": "stream",
     "text": [
      "Lenght of the list : 5\n"
     ]
    }
   ],
   "source": [
    "List = [\"one\",\"two\",\"three\",\"four\",\"five\"]\n",
    "print(\"Lenght of the list : {0}\".format(len(List)))"
   ]
  },
  {
   "cell_type": "code",
   "execution_count": 13,
   "metadata": {},
   "outputs": [
    {
     "name": "stdout",
     "output_type": "stream",
     "text": [
      "Sum of all is : 25\n"
     ]
    }
   ],
   "source": [
    "a = [1,2,3,4,5,1,4,5] \n",
    "print(\"Sum of all is : {0}\".format(sum(a)))"
   ]
  },
  {
   "cell_type": "code",
   "execution_count": 14,
   "metadata": {},
   "outputs": [
    {
     "name": "stdout",
     "output_type": "stream",
     "text": [
      "Largest number in list is: 8904\n"
     ]
    }
   ],
   "source": [
    "a = [8134, 7630, 8904, 6587, 3453] \n",
    "print(\"Largest number in list is: {0}\" .format(max(a)))"
   ]
  },
  {
   "cell_type": "code",
   "execution_count": 15,
   "metadata": {},
   "outputs": [
    {
     "name": "stdout",
     "output_type": "stream",
     "text": [
      "Largest number in list is: 9876\n"
     ]
    }
   ],
   "source": [
    "a = [9876, 5467, 8904, 3498, 1087] \n",
    "print(\"Largest number in list is: {0}\" .format(max(a)))"
   ]
  },
  {
   "cell_type": "code",
   "execution_count": null,
   "metadata": {},
   "outputs": [
    {
     "name": "stdout",
     "output_type": "stream",
     "text": [
      "1\n",
      "1\n",
      "2\n",
      "3\n"
     ]
    }
   ],
   "source": [
    "a = [1, 1, 2, 3, 5, 8, 13, 21, 34, 55, 89]\n",
    "\n",
    "i = 0\n",
    "while i < len(a):\n",
    "    if(a[i] < 5) :\n",
    "        print(a[i])\n",
    "        i += 1"
   ]
  },
  {
   "cell_type": "code",
   "execution_count": null,
   "metadata": {},
   "outputs": [],
   "source": []
  }
 ],
 "metadata": {
  "kernelspec": {
   "display_name": "Python 3",
   "language": "python",
   "name": "python3"
  },
  "language_info": {
   "codemirror_mode": {
    "name": "ipython",
    "version": 3
   },
   "file_extension": ".py",
   "mimetype": "text/x-python",
   "name": "python",
   "nbconvert_exporter": "python",
   "pygments_lexer": "ipython3",
   "version": "3.7.4"
  }
 },
 "nbformat": 4,
 "nbformat_minor": 2
}
