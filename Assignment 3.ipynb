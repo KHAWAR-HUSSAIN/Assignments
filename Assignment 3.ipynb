{
 "cells": [
  {
   "cell_type": "code",
   "execution_count": 1,
   "metadata": {},
   "outputs": [
    {
     "name": "stdout",
     "output_type": "stream",
     "text": [
      "CALCULATOR\n",
      "Select Operators \n",
      "1 : for Addition \n",
      "2 : for Subtraction\n",
      "3 : for Multiplication\n",
      "4 : for Division\n",
      "Enter choice 1,2,3,41\n",
      "Enter Number 1 :2\n",
      "Enter Number 2:3\n",
      "2 + 3 = 5\n"
     ]
    }
   ],
   "source": [
    "print(\"CALCULATOR\")\n",
    "\n",
    "def add(x,y):\n",
    "  return x+y\n",
    "\n",
    "def sub(x,y):\n",
    "  return x-y\n",
    "\n",
    "def mul(x,y):\n",
    "  return x*y\n",
    "\n",
    "def div(x,y):\n",
    "  return x/y\n",
    "def sqr(x,Y):\n",
    "  return (x**y)\n",
    "\n",
    "print(\"Select Operators \")\n",
    "print(\"1 : for Addition \")\n",
    "print(\"2 : for Subtraction\")\n",
    "print(\"3 : for Multiplication\")      \n",
    "print(\"4 : for Division\") \n",
    "  \n",
    "      \n",
    "choice=input(\"Enter choice 1,2,3,4\")\n",
    "num1=int(input(\"Enter Number 1 :\"))  \n",
    "num2=int(input(\"Enter Number 2:\"))\n",
    "\n",
    "      \n",
    "if choice == \"1\":\n",
    "  print(num1,\"+\",num2, \"=\",add(num1,num2))\n",
    "elif choice == \"2\":\n",
    "  print(num1 ,\"-\",num2,\"=\",sub(num1,num2))\n",
    "elif choice == \"3\":\n",
    "  print(num1, \"*\",num2,\"=\",mul(num1,num2))\n",
    "elif choice == \"4\":\n",
    "  print(num1, \"/\" ,num2,\"=\",div(num1,num2))"
   ]
  },
  {
   "cell_type": "code",
   "execution_count": 2,
   "metadata": {},
   "outputs": [
    {
     "name": "stdout",
     "output_type": "stream",
     "text": [
      "Python script to add a key to a dictionary\n",
      "{0: 10, 1: 20}\n",
      "{0: 10, 1: 20, 2: 30}\n"
     ]
    }
   ],
   "source": [
    "print(\"Python script to add a key to a dictionary\")\n",
    "d = {0:10, 1:20}  \n",
    "print(d)  \n",
    "d.update({2:30})  \n",
    "print(d)  "
   ]
  },
  {
   "cell_type": "code",
   "execution_count": 3,
   "metadata": {},
   "outputs": [
    {
     "ename": "IndentationError",
     "evalue": "expected an indented block (<ipython-input-3-a581fd8144b8>, line 5)",
     "output_type": "error",
     "traceback": [
      "\u001b[1;36m  File \u001b[1;32m\"<ipython-input-3-a581fd8144b8>\"\u001b[1;36m, line \u001b[1;32m5\u001b[0m\n\u001b[1;33m    sum = 0\u001b[0m\n\u001b[1;37m      ^\u001b[0m\n\u001b[1;31mIndentationError\u001b[0m\u001b[1;31m:\u001b[0m expected an indented block\n"
     ]
    }
   ],
   "source": [
    "print (\"Python program to sum all the numeric items in a dictionary\") \n",
    " \n",
    "def returnSum(myDict): \n",
    "\n",
    "sum = 0\n",
    "    for i in myDict: \n",
    "        sum = sum + myDict[i] \n",
    "    \n",
    "    return sum\n",
    "\n",
    "dict = {'a': 100, 'b':200, 'c':300} \n",
    "print(\"Sum :\", returnSum(dict)) \n",
    " "
   ]
  },
  {
   "cell_type": "code",
   "execution_count": 4,
   "metadata": {},
   "outputs": [
    {
     "name": "stdout",
     "output_type": "stream",
     "text": [
      "Python script to check if a given key already exists in a dictionary\n",
      "Key is present in the dictionary\n",
      "Key is not present in the dictionary\n"
     ]
    }
   ],
   "source": [
    "print (\"Python script to check if a given key already exists in a dictionary\") \n",
    " \n",
    "d = {1: 10, 2: 20, 3: 30, 4: 40, 5: 50, 6: 60}\n",
    "def is_key_present(x):\n",
    "  if x in d:\n",
    "      print('Key is present in the dictionary')\n",
    "  else:\n",
    "      print('Key is not present in the dictionary')\n",
    "is_key_present(5)\n",
    "is_key_present(9) "
   ]
  },
  {
   "cell_type": "code",
   "execution_count": 5,
   "metadata": {},
   "outputs": [
    {
     "ename": "IndentationError",
     "evalue": "expected an indented block (<ipython-input-5-bccf4c2569ca>, line 5)",
     "output_type": "error",
     "traceback": [
      "\u001b[1;36m  File \u001b[1;32m\"<ipython-input-5-bccf4c2569ca>\"\u001b[1;36m, line \u001b[1;32m5\u001b[0m\n\u001b[1;33m    sum = 0\u001b[0m\n\u001b[1;37m      ^\u001b[0m\n\u001b[1;31mIndentationError\u001b[0m\u001b[1;31m:\u001b[0m expected an indented block\n"
     ]
    }
   ],
   "source": [
    "print (\"Python program to sum all the numeric items in a dictionary\") \n",
    " \n",
    "def returnSum(myDict): \n",
    "\n",
    "sum = 0\n",
    "    for i in myDict: \n",
    "        sum = sum + myDict[i] :\n",
    "    \n",
    "    return sum\n",
    "\n",
    "dict = {'a': 100, 'b':200, 'c':300} \n",
    "print(\"Sum :\", returnSum(dict))"
   ]
  },
  {
   "cell_type": "code",
   "execution_count": 6,
   "metadata": {},
   "outputs": [
    {
     "ename": "IndentationError",
     "evalue": "expected an indented block (<ipython-input-6-e0e47c61a74c>, line 5)",
     "output_type": "error",
     "traceback": [
      "\u001b[1;36m  File \u001b[1;32m\"<ipython-input-6-e0e47c61a74c>\"\u001b[1;36m, line \u001b[1;32m5\u001b[0m\n\u001b[1;33m    sum = 0\u001b[0m\n\u001b[1;37m      ^\u001b[0m\n\u001b[1;31mIndentationError\u001b[0m\u001b[1;31m:\u001b[0m expected an indented block\n"
     ]
    }
   ],
   "source": [
    "print (\"Python program to sum all the numeric items in a dictionary\") \n",
    " \n",
    "def returnSum(myDict): \n",
    "\n",
    "sum = 0\n",
    "    for i in myDict: \n",
    "        sum = sum + myDict[i] ;\n",
    "    \n",
    "    return sum\n",
    "\n",
    "dict = {'a': 100, 'b':200, 'c':300} \n",
    "print(\"Sum :\", returnSum(dict))"
   ]
  },
  {
   "cell_type": "code",
   "execution_count": 7,
   "metadata": {},
   "outputs": [
    {
     "ename": "IndentationError",
     "evalue": "expected an indented block (<ipython-input-7-99b949275b65>, line 5)",
     "output_type": "error",
     "traceback": [
      "\u001b[1;36m  File \u001b[1;32m\"<ipython-input-7-99b949275b65>\"\u001b[1;36m, line \u001b[1;32m5\u001b[0m\n\u001b[1;33m    sum = 0\u001b[0m\n\u001b[1;37m      ^\u001b[0m\n\u001b[1;31mIndentationError\u001b[0m\u001b[1;31m:\u001b[0m expected an indented block\n"
     ]
    }
   ],
   "source": [
    "print (\"Python program to sum all the numeric items in a dictionary\") \n",
    " \n",
    "def returnSum(myDict): \n",
    "\n",
    "sum = 0\n",
    "    for i in myDict: \n",
    "        sum = sum + myDict[i] \n",
    "    \n",
    "    return sum:\n",
    "\n",
    "dict = {'a': 100, 'b':200, 'c':300} \n",
    "print(\"Sum :\", returnSum(dict))"
   ]
  },
  {
   "cell_type": "code",
   "execution_count": null,
   "metadata": {},
   "outputs": [],
   "source": []
  }
 ],
 "metadata": {
  "kernelspec": {
   "display_name": "Python 3",
   "language": "python",
   "name": "python3"
  },
  "language_info": {
   "codemirror_mode": {
    "name": "ipython",
    "version": 3
   },
   "file_extension": ".py",
   "mimetype": "text/x-python",
   "name": "python",
   "nbconvert_exporter": "python",
   "pygments_lexer": "ipython3",
   "version": "3.7.4"
  }
 },
 "nbformat": 4,
 "nbformat_minor": 2
}
