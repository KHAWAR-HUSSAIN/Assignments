{
 "cells": [
  {
   "cell_type": "code",
   "execution_count": 1,
   "metadata": {},
   "outputs": [
    {
     "name": "stdout",
     "output_type": "stream",
     "text": [
      "Question 1\n",
      "Object-oriented programming (OOP) refers to a type of computer programming (software design) in which programmers define not only the data type of a data structure, but also the types of operations (functions) that can be applied to the data structure\n",
      "Question 2\n",
      "There are many benefits of OOP but these are major benefits\n",
      "1. Modularity for easier troubleshooting\n",
      "2. Reuse of code through inheritance\n",
      "3. Flexibility through polymorphism\n",
      "4. Effective problem solving\n",
      "Question 3\n",
      "Differentiate between function and method?\n",
      "function\n",
      "A function is a piece of code that is called by name. It can be passed data to operate on (i.e. the parameters) and can optionally return data (the return value). All data that is passed to a function is explicitly passed\n",
      "Method\n",
      "A method is a piece of code that is called by a name that is associated with an object.\n",
      "Question 4\n",
      "Class\n",
      "In object-oriented programming, a class is an extensible program-code-template for creating objects, providing initial values for state and implementations of behavior.\n",
      "Object\n",
      "In object-oriented programming (OOP), objects are the things you think about first in designing a program and they are also the units of code that are eventually derived from the process. ... Each object is an instance of a particular class or subclass with the class's own methods or procedures and data variables.\n",
      "Attribute\n",
      "In Object-oriented programming(OOP), classes and objects have attributes. Attributes are data stored inside a class or instance and represent the state or quality of the class or instance. In short, attributes store information about the instance.\n",
      "Behavior\n",
      "Behavior. A class's behavior determines how an instance of that class operates; for example, how it will 'react' if asked to do something by another class or object or if its internal state changes. Behavior is the only way objects can do anything to themselves or have anything done to them.\n"
     ]
    }
   ],
   "source": [
    "print(\"Question 1\")\n",
    "print(\"Object-oriented programming (OOP) refers to a type of computer programming (software design) in which programmers define not only the data type of a data structure, but also the types of operations (functions) that can be applied to the data structure\")\n",
    "\n",
    "\n",
    "\n",
    "print(\"Question 2\")\n",
    "print(\"There are many benefits of OOP but these are major benefits\")\n",
    "print (\"1. Modularity for easier troubleshooting\")\n",
    "print (\"2. Reuse of code through inheritance\")\n",
    "print (\"3. Flexibility through polymorphism\")\n",
    "print (\"4. Effective problem solving\")\n",
    "\n",
    "\n",
    "print(\"Question 3\")\n",
    "\n",
    "print(\"Differentiate between function and method?\")\n",
    "print(\"function\")\n",
    "print(\"A function is a piece of code that is called by name. It can be passed data to operate on (i.e. the parameters) and can optionally return data (the return value). All data that is passed to a function is explicitly passed\")\n",
    "print(\"Method\")\n",
    "print (\"A method is a piece of code that is called by a name that is associated with an object.\")\n",
    "\n",
    "\n",
    "print(\"Question 4\")\n",
    "\n",
    "print(\"Class\")\n",
    "print(\"In object-oriented programming, a class is an extensible program-code-template for creating objects, providing initial values for state and implementations of behavior.\")\n",
    "print(\"Object\")\n",
    "print(\"In object-oriented programming (OOP), objects are the things you think about first in designing a program and they are also the units of code that are eventually derived from the process. ... Each object is an instance of a particular class or subclass with the class's own methods or procedures and data variables.\")\n",
    "print(\"Attribute\")\n",
    "print(\"In Object-oriented programming(OOP), classes and objects have attributes. Attributes are data stored inside a class or instance and represent the state or quality of the class or instance. In short, attributes store information about the instance.\")\n",
    "print(\"Behavior\")\n",
    "print(\"Behavior. A class's behavior determines how an instance of that class operates; for example, how it will 'react' if asked to do something by another class or object or if its internal state changes. Behavior is the only way objects can do anything to themselves or have anything done to them.\")\n",
    "\n"
   ]
  },
  {
   "cell_type": "code",
   "execution_count": null,
   "metadata": {},
   "outputs": [],
   "source": []
  }
 ],
 "metadata": {
  "kernelspec": {
   "display_name": "Python 3",
   "language": "python",
   "name": "python3"
  },
  "language_info": {
   "codemirror_mode": {
    "name": "ipython",
    "version": 3
   },
   "file_extension": ".py",
   "mimetype": "text/x-python",
   "name": "python",
   "nbconvert_exporter": "python",
   "pygments_lexer": "ipython3",
   "version": "3.7.4"
  }
 },
 "nbformat": 4,
 "nbformat_minor": 2
}
